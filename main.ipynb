{
 "cells": [
  {
   "cell_type": "code",
   "execution_count": null,
   "id": "cbf65062",
   "metadata": {},
   "outputs": [],
   "source": [
    "from ultralytics import YOLO\n",
    "import os\n",
    "import cv2"
   ]
  },
  {
   "cell_type": "markdown",
   "id": "80591df4",
   "metadata": {},
   "source": [
    "## Training"
   ]
  },
  {
   "cell_type": "code",
   "execution_count": null,
   "id": "264ed3f8",
   "metadata": {},
   "outputs": [],
   "source": [
    "output_dir = 'CustomOutputDir'\n",
    "\n",
    "model = YOLO(\"yolo11m.yaml\").load(\"yolo11m.pt\")\n",
    "model = model.to('cuda')\n",
    "# customize options such as batch size, workers etc. for your environment\n",
    "model.train(data = 'TrainData.yaml',\n",
    "            epochs = 75, imgsz = 2560, batch = 0.9, workers = 8, project = output_dir, name = output_dir, optimizer = 'SGD', cos_lr = True, lr0 = 0.0002, lrf = 0.01, weight_decay = 0.001, save_period = 10, dropout = 0.15, cls = 0.5, box = 2.5,\n",
    "            degrees = 5.0, translate = 0.2, scale = 0.4, mosaic = 0.25, mixup = 0.25, fliplr = 0.5,\n",
    "            resume = False\n",
    "            )"
   ]
  },
  {
   "cell_type": "markdown",
   "id": "b10d94ff",
   "metadata": {},
   "source": [
    "## Evaluation"
   ]
  },
  {
   "cell_type": "code",
   "execution_count": null,
   "id": "4e6ffc5d",
   "metadata": {},
   "outputs": [],
   "source": [
    "# validation set\n",
    "\n",
    "val_output_dir = output_dir + '/val_results'\n",
    "conf = 0.239 # custom confidence threshold for validation\n",
    "\n",
    "model = YOLO(output_dir + '/weights/best.pt')\n",
    "results = model.val(data = 'ValidationData.yaml', imgsz = 2560, device = 'cuda', batch = 4, project = output_dir, name = str(conf), conf = conf)"
   ]
  },
  {
   "cell_type": "code",
   "execution_count": null,
   "id": "00252564",
   "metadata": {},
   "outputs": [],
   "source": [
    "# test set\n",
    "\n",
    "val_output_dir = output_dir + '/val_results'\n",
    "conf = 0.239 # custom confidence threshold for validation\n",
    "\n",
    "model = YOLO(output_dir + '/weights/best.pt')\n",
    "results = model.val(data = 'TestData.yaml', imgsz = 2560, device = 'cuda', batch = 4, project = output_dir, name = str(conf), conf = conf) # custom iou threshold can be added if needed with iou = 0.xx"
   ]
  },
  {
   "cell_type": "markdown",
   "id": "ade20628",
   "metadata": {},
   "source": [
    "## Inference and visualization"
   ]
  },
  {
   "cell_type": "code",
   "execution_count": null,
   "id": "f35e108b",
   "metadata": {},
   "outputs": [],
   "source": [
    "model = YOLO(output_dir + '/weights/best.pt')\n",
    "conf = 0.239 # 0.5 for high confidence threshold, as in paper\n",
    "\n",
    "imagePath = 'YourKUBImage.png'  # replace with your image path\n",
    "\n",
    "# Apply CLAHE preprocessing before inference - to match the training data preprocessing\n",
    "\n",
    "clahe = cv2.createCLAHE(clipLimit=4.0, tileGridSize=(8,8))\n",
    "img = cv2.imread(imagePath, cv2.IMREAD_GRAYSCALE)\n",
    "img = clahe.apply(img)\n",
    "\n",
    "results = model(img, imgsz = 2560, conf = conf, device = 'cuda')\n",
    "for result in results:\n",
    "  print(result.boxes)\n",
    "  result.show()"
   ]
  }
 ],
 "metadata": {
  "language_info": {
   "name": "python"
  }
 },
 "nbformat": 4,
 "nbformat_minor": 5
}
